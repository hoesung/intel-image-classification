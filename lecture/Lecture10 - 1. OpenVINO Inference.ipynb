{
 "cells": [
  {
   "cell_type": "markdown",
   "metadata": {},
   "source": [
    "<img src='../img/theory/intel-main_opt.png' width=50%>\n",
    "\n",
    "\n",
    "# 모바일넷을 이용한 이미지분류\n",
    "\n",
    "<font size=5><b>(Image Classification using Mobilenet)<b></font>\n",
    "\n",
    "<div align='right'>성  민  석<br>(Minsuk Sung)</div>\n",
    "\n",
    "<img src='../img/theory/openvino.png' width=50%>\n",
    "          \n",
    "이미지출처: https://gitcdn.xyz/cdn/Tony607/blog_statics/9ddd48eb623175fb734e63865ebe604351c64c61/images/openvino/openvino.png\n",
    "\n",
    "---"
   ]
  },
  {
   "cell_type": "markdown",
   "metadata": {
    "toc": true
   },
   "source": [
    "<h1>강의목차<span class=\"tocSkip\"></span></h1>\n",
    "<div class=\"toc\"><ul class=\"toc-item\"><li><span><a href=\"#Keras-h5-파일을-Tensorflow-pb파일로-변환\" data-toc-modified-id=\"Keras-h5-파일을-Tensorflow-pb파일로-변환-1\"><span class=\"toc-item-num\">1&nbsp;&nbsp;</span>Keras h5 파일을 Tensorflow pb파일로 변환</a></span></li><li><span><a href=\"#Tensorflow-pb파일을-OpenVINO-xml,-bin파일로-변환\" data-toc-modified-id=\"Tensorflow-pb파일을-OpenVINO-xml,-bin파일로-변환-2\"><span class=\"toc-item-num\">2&nbsp;&nbsp;</span>Tensorflow pb파일을 OpenVINO xml, bin파일로 변환</a></span></li><li><span><a href=\"#OpenVINO에서-xml,bin파일로-추론\" data-toc-modified-id=\"OpenVINO에서-xml,bin파일로-추론-3\"><span class=\"toc-item-num\">3&nbsp;&nbsp;</span>OpenVINO에서 xml,bin파일로 추론</a></span></li><li><span><a href=\"#Reference\" data-toc-modified-id=\"Reference-4\"><span class=\"toc-item-num\">4&nbsp;&nbsp;</span>Reference</a></span></li></ul></div>"
   ]
  },
  {
   "cell_type": "markdown",
   "metadata": {},
   "source": [
    "<img src='../img/theory/keras_tf_pb.png' width=50%>\n",
    "          \n",
    "이미지출처: https://gitcdn.xyz/cdn/Tony607/blog_statics/73e93019d8a9dafd0b5a0fe200e982b75d50bf21/images/keras-tf/keras_tf_pb.png\n",
    "\n",
    "## Keras h5 파일을 Tensorflow pb파일로 변환"
   ]
  },
  {
   "cell_type": "code",
   "execution_count": null,
   "metadata": {},
   "outputs": [],
   "source": [
    "%run keras_to_freeze_binary.py ./bin/mobilenetv2_class20.h5 ./bin/mobilenetv2"
   ]
  },
  {
   "cell_type": "markdown",
   "metadata": {},
   "source": [
    "<img src='../img/theory/webops12032-diagram-of-flow-750.jpg'>\n",
    "\n",
    "이미지출처: https://software.intel.com/sites/default/files/managed/b7/e3/webops12032-diagram-of-flow-750.jpg\n",
    "\n",
    "## Tensorflow pb파일을 OpenVINO xml, bin파일로 변환"
   ]
  },
  {
   "cell_type": "code",
   "execution_count": null,
   "metadata": {},
   "outputs": [],
   "source": [
    "%run /opt/intel/openvino/deployment_tools/model_optimizer/mo.py \\\n",
    "    --framework tf \\\n",
    "    --input_model ./bin/mobilenetv2.pb \\\n",
    "    --batch 1 \\\n",
    "    --data_type FP32 \\\n",
    "    --output_dir bin/"
   ]
  },
  {
   "cell_type": "markdown",
   "metadata": {},
   "source": [
    "## OpenVINO에서 xml,bin파일로 추론"
   ]
  },
  {
   "cell_type": "code",
   "execution_count": null,
   "metadata": {},
   "outputs": [],
   "source": [
    "import os\n",
    "# assert 'computer_vision_sdk' in os.environ['PYTHONPATH']\n",
    "\n",
    "from PIL import Image\n",
    "import numpy as np\n",
    "\n",
    "try:\n",
    "    from openvino import inference_engine as ie\n",
    "    from openvino.inference_engine import IENetwork, IEPlugin\n",
    "except Exception as e:\n",
    "    exception_type = type(e).__name__\n",
    "    print(\"The following error happened while importing Python API module:\\n[ {} ] {}\".format(exception_type, e))\n",
    "    sys.exit(1)"
   ]
  },
  {
   "cell_type": "code",
   "execution_count": null,
   "metadata": {},
   "outputs": [],
   "source": [
    "def pre_process_image(imagePath, img_height=224):\n",
    "    # Model input format\n",
    "    n, c, h, w = [1, 3, img_height, img_height]\n",
    "    image = Image.open(imagePath)\n",
    "    processedImg = image.resize((h, w), resample=Image.BILINEAR)\n",
    "\n",
    "    # Normalize to keep data between 0 - 1\n",
    "    processedImg = (np.array(processedImg) - 0) / 255.0\n",
    "\n",
    "    # Change data layout from HWC to CHW\n",
    "    processedImg = processedImg.transpose((2, 0, 1))\n",
    "    processedImg = processedImg.reshape((n, c, h, w))\n",
    "\n",
    "    return image, processedImg, imagePath"
   ]
  },
  {
   "cell_type": "code",
   "execution_count": null,
   "metadata": {},
   "outputs": [],
   "source": [
    "# Plugin initialization for specified device and load extensions library if specified.\n",
    "plugin_dir = None\n",
    "model_xml = '../bin/mobilenetv2.xml'\n",
    "model_bin = '../bin/mobilenetv2.bin'"
   ]
  },
  {
   "cell_type": "code",
   "execution_count": null,
   "metadata": {},
   "outputs": [],
   "source": [
    "# Devices: GPU (intel), CPU, MYRIAD\n",
    "# plugin = IEPlugin(\"MYRIAD\", plugin_dirs=plugi)\n",
    "plugin = IEPlugin(\"CPU\")"
   ]
  },
  {
   "cell_type": "code",
   "execution_count": null,
   "metadata": {},
   "outputs": [],
   "source": [
    "# Read IRn_dir\n",
    "net = IENetwork.from_ir(model=model_xml, weights=model_bin)\n",
    "assert len(net.inputs.keys()) == 1\n",
    "assert len(net.outputs) == 1\n",
    "input_blob = next(iter(net.inputs))\n",
    "out_blob = next(iter(net.outputs))"
   ]
  },
  {
   "cell_type": "code",
   "execution_count": null,
   "metadata": {},
   "outputs": [],
   "source": [
    "# Load network to the plugin\n",
    "exec_net = plugin.load(network=net)\n",
    "del net"
   ]
  },
  {
   "cell_type": "code",
   "execution_count": null,
   "metadata": {},
   "outputs": [],
   "source": [
    "# Run inference\n",
    "fileName = '../img/test/sofa.jpg'"
   ]
  },
  {
   "cell_type": "code",
   "execution_count": null,
   "metadata": {},
   "outputs": [],
   "source": [
    "image, processedImg, imagePath = pre_process_image(fileName)\n",
    "res = exec_net.infer(inputs={input_blob: processedImg})\n",
    "# Access the results and get the index of the highest confidence score\n",
    "output_node_name = list(res.keys())[0]\n",
    "res = res[output_node_name]"
   ]
  },
  {
   "cell_type": "code",
   "execution_count": null,
   "metadata": {},
   "outputs": [],
   "source": [
    "# Predicted class index.\n",
    "idx = np.argsort(res[0])[-1]"
   ]
  },
  {
   "cell_type": "code",
   "execution_count": null,
   "metadata": {
    "ExecuteTime": {
     "end_time": "2019-11-25T16:56:11.472194Z",
     "start_time": "2019-11-25T16:56:10.203650Z"
    }
   },
   "outputs": [],
   "source": [
    "# decode the predictions\n",
    "import pickle\n",
    "import matplotlib.pyplot as plt\n",
    "from tensorflow.keras.preprocessing.image import load_img\n",
    "plt.imshow(load_img(fileName))\n",
    "plt.show()\n",
    "\n",
    "with open('../bin/class20.pickle', 'rb') as f:\n",
    "    labels = pickle.load(f) \n",
    "print('Predicted : {} ({:.2f}%)'.format(labels[idx].upper(),res[0][idx]*100))"
   ]
  },
  {
   "cell_type": "markdown",
   "metadata": {},
   "source": [
    "## Reference"
   ]
  },
  {
   "cell_type": "markdown",
   "metadata": {},
   "source": [
    "- Intel\n",
    "    - https://www.intel.co.kr/\n",
    "- Intel OpenVINO\n",
    "    - https://software.intel.com/en-us/openvino-toolkit\n",
    "- MNIST\n",
    "    - http://yann.lecun.com/exdb/mnist/\n",
    "- CIFAR10\n",
    "    - https://www.cs.toronto.edu/~kriz/cifar.html\n",
    "- ImageNet\n",
    "    - http://www.image-net.org\n",
    "- Tensorflow\n",
    "    - https://www.tensorflow.org/?hl=ko\n",
    "- Keras\n",
    "    - https://keras.io/\n",
    "    - https://tensorflow.blog/2019/03/06/tensorflow-2-0-keras-api-overview/\n",
    "    - https://tykimos.github.io/2017/02/22/Integrating_Keras_and_TensorFlow/\n",
    "    - https://tykimos.github.io/2017/03/08/CNN_Getting_Started/\n",
    "    - https://raw.githubusercontent.com/keras-team/keras-docs-ko/master/sources/why-use-keras.md\n",
    "- Keras to Caffe\n",
    "     - https://github.com/uhfband/keras2caffe\n",
    "     - http://www.deepvisionconsulting.com/from-keras-to-caffe/\n",
    "- Fully Connected Layer\n",
    "    - https://sonofgodcom.wordpress.com/2018/12/31/cnn%EC%9D%84-%EC%9D%B4%ED%95%B4%ED%95%B4%EB%B3%B4%EC%9E%90-fully-connected-layer%EB%8A%94-%EB%AD%94%EA%B0%80/\n",
    "- Convultional Nueral Network\n",
    "    - http://aikorea.org/cs231n/convolutional-networks/\n",
    "    - http://cs231n.stanford.edu/\n",
    "- CNN Models\n",
    "    - https://ratsgo.github.io/deep%20learning/2017/10/09/CNNs/\n",
    "\n",
    "- VOC2012\n",
    "    - https://blog.godatadriven.com/rod-keras-multi-label\n",
    "    - https://gist.github.com/rragundez/ae3a17428bfec631d1b35dcdc6296a85#file-multi-label_classification_with_keras_imagedatagenerator-ipynbhttps://fairyonice.github.io/Part_5_Object_Detection_with_Yolo_using_VOC_2012_data_training.html\n",
    "    - http://research.sualab.com/introduction/2017/11/29/image-recognition-overview-1.html"
   ]
  }
 ],
 "metadata": {
  "kernelspec": {
   "display_name": "Python 3",
   "language": "python",
   "name": "python3"
  },
  "language_info": {
   "codemirror_mode": {
    "name": "ipython",
    "version": 3
   },
   "file_extension": ".py",
   "mimetype": "text/x-python",
   "name": "python",
   "nbconvert_exporter": "python",
   "pygments_lexer": "ipython3",
   "version": "3.6.9"
  },
  "toc": {
   "base_numbering": 1,
   "nav_menu": {},
   "number_sections": true,
   "sideBar": true,
   "skip_h1_title": true,
   "title_cell": "강의목차",
   "title_sidebar": "Contents",
   "toc_cell": true,
   "toc_position": {},
   "toc_section_display": true,
   "toc_window_display": true
  }
 },
 "nbformat": 4,
 "nbformat_minor": 2
}
